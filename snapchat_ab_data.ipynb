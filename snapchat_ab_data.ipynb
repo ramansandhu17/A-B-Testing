{
  "nbformat": 4,
  "nbformat_minor": 0,
  "metadata": {
    "colab": {
      "provenance": [],
      "authorship_tag": "ABX9TyMzyCs+qbbHZTDS6h/dznmQ",
      "include_colab_link": true
    },
    "kernelspec": {
      "name": "python3",
      "display_name": "Python 3"
    },
    "language_info": {
      "name": "python"
    }
  },
  "cells": [
    {
      "cell_type": "markdown",
      "metadata": {
        "id": "view-in-github",
        "colab_type": "text"
      },
      "source": [
        "<a href=\"https://colab.research.google.com/github/ramansandhu17/A-B-Testing/blob/main/snapchat_ab_data.ipynb\" target=\"_parent\"><img src=\"https://colab.research.google.com/assets/colab-badge.svg\" alt=\"Open In Colab\"/></a>"
      ]
    },
    {
      "cell_type": "code",
      "execution_count": 1,
      "metadata": {
        "id": "JwM4m9u4ALx9"
      },
      "outputs": [],
      "source": [
        "#This code will be used to create test data for snapchat project\n",
        "\n",
        "import pandas as pd\n",
        "import numpy as np\n",
        "\n",
        "#setting the random seed\n",
        "np.random.seed(42)\n",
        "\n",
        "n_users=10000\n",
        "n_control=n_test=n_users//2 #5000 for each group\n",
        "\n",
        "control_impressions=np.random.randint(5,21,n_control) #low, high, times\n",
        "\n",
        "#how many times the user tapped\n",
        "control_taps=np.random.binomial(control_impressions,0.12)\n",
        "\n",
        "\n",
        "test_impressions=np.random.randint(5,21,n_test)\n",
        "test_taps=np.random.binomial(test_impressions,0.15)\n",
        "\n",
        "control_data = pd.DataFrame({\n",
        "    'user_id': range(1, n_control + 1),\n",
        "    'group': 'control',\n",
        "    'impressions': control_impressions,\n",
        "    'taps': control_taps\n",
        "})\n",
        "\n",
        "test_data = pd.DataFrame({\n",
        "    'user_id': range(n_control + 1, n_users + 1),\n",
        "    'group': 'test',\n",
        "    'impressions': test_impressions,\n",
        "    'taps': test_taps\n",
        "})\n",
        "\n",
        "# Concatenate datasets\n",
        "ab_data = pd.concat([control_data, test_data], ignore_index=True)\n",
        "\n",
        "ab_data['ttr']=ab_data['taps']/ab_data['impressions']\n",
        "\n",
        "ab_data.to_csv('snapchat_ab_data.csv', index=False)"
      ]
    }
  ]
}