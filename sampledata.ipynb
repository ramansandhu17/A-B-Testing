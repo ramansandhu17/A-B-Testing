{
  "nbformat": 4,
  "nbformat_minor": 0,
  "metadata": {
    "colab": {
      "provenance": [],
      "authorship_tag": "ABX9TyOFtoaWcCBP8vlva8DAr+E2",
      "include_colab_link": true
    },
    "kernelspec": {
      "name": "python3",
      "display_name": "Python 3"
    },
    "language_info": {
      "name": "python"
    }
  },
  "cells": [
    {
      "cell_type": "markdown",
      "metadata": {
        "id": "view-in-github",
        "colab_type": "text"
      },
      "source": [
        "<a href=\"https://colab.research.google.com/github/ramansandhu17/A-B-Testing/blob/main/sampledata.ipynb\" target=\"_parent\"><img src=\"https://colab.research.google.com/assets/colab-badge.svg\" alt=\"Open In Colab\"/></a>"
      ]
    },
    {
      "cell_type": "code",
      "execution_count": 2,
      "metadata": {
        "id": "mkGWbrA9HJVK"
      },
      "outputs": [],
      "source": [
        "import pandas as pd\n",
        "import numpy as np\n",
        "\n",
        "np.random.seed(42)\n",
        "n_emails=100\n",
        "\n",
        "#expectation for open rate for A group\n",
        "open_rate_a=0.24\n",
        "\n",
        "#expectation for open rate for B group\n",
        "open_rate_b=0.32\n",
        "\n",
        "#simuated opens(1=open, 0=not opened)\n",
        "opens_a=np.random.binomial(1,open_rate_a,n_emails)\n",
        "opens_b=np.random.binomial(1,open_rate_b,n_emails)\n",
        "\n",
        "#Create a dataframe\n",
        "df=pd.DataFrame({\n",
        "    'EmailID':range(1,2*n_emails+1),\n",
        "    'Group':['A']*n_emails+['B']*n_emails,\n",
        "    'SubjectLine':['Following up on our last conversation']*n_emails+['Fresh flavors just arrived']*n_emails,\n",
        "    'Opened':np.concatenate([opens_a,opens_b])\n",
        "})\n"
      ]
    },
    {
      "cell_type": "code",
      "source": [],
      "metadata": {
        "id": "adqrKS6jRtGc"
      },
      "execution_count": null,
      "outputs": []
    },
    {
      "cell_type": "code",
      "source": [],
      "metadata": {
        "id": "lg9qtioqH5Mp"
      },
      "execution_count": null,
      "outputs": []
    }
  ]
}