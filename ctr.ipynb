{
  "nbformat": 4,
  "nbformat_minor": 0,
  "metadata": {
    "colab": {
      "provenance": [],
      "authorship_tag": "ABX9TyNnYmcHoIxiFfQhkt9WNnhZ",
      "include_colab_link": true
    },
    "kernelspec": {
      "name": "python3",
      "display_name": "Python 3"
    },
    "language_info": {
      "name": "python"
    }
  },
  "cells": [
    {
      "cell_type": "markdown",
      "metadata": {
        "id": "view-in-github",
        "colab_type": "text"
      },
      "source": [
        "<a href=\"https://colab.research.google.com/github/ramansandhu17/A-B-Testing/blob/main/ctr.ipynb\" target=\"_parent\"><img src=\"https://colab.research.google.com/assets/colab-badge.svg\" alt=\"Open In Colab\"/></a>"
      ]
    },
    {
      "cell_type": "code",
      "execution_count": 1,
      "metadata": {
        "id": "BxlrG3VtJs9-"
      },
      "outputs": [],
      "source": [
        "#testing the click thru rate of email subject line\n",
        "\n",
        "#We will find out if the subject line is compelling enough to act on\n",
        "\n",
        "#In the end this will help us in optimizing engagement and conversions"
      ]
    },
    {
      "cell_type": "code",
      "source": [
        "emails_A=1000\n",
        "clicks_A=150\n",
        "\n",
        "emails_B=1000\n",
        "clicks_B=180\n"
      ],
      "metadata": {
        "id": "N25i-UDTKs9T"
      },
      "execution_count": 2,
      "outputs": []
    },
    {
      "cell_type": "code",
      "source": [
        "from statsmodels.stats.proportion import proportions_ztest\n",
        "\n",
        "clicks_A = 150\n",
        "clicks_B = 180\n",
        "emails_A = 1000\n",
        "emails_B = 1000\n",
        "#total number of clicks for both subject lines\n",
        "clicks=[clicks_B,clicks_A]\n",
        "\n",
        "#Total emails sent for both subject lines\n",
        "emails=[emails_B,emails_A]\n",
        "\n",
        "#Performing the test when B is larger than A\n",
        "\n",
        "z_stat,p_value=proportions_ztest(count=clicks,nobs=emails,alternative='larger')\n",
        "\n",
        "print(\"Clicks A:\",clicks_A)\n",
        "print(\"Clicks B:\",clicks_B)\n",
        "\n",
        "print(f\"Z-statistics: {z_stat}\")\n",
        "print(f\"P-value: {p_value}\")"
      ],
      "metadata": {
        "colab": {
          "base_uri": "https://localhost:8080/"
        },
        "id": "EJRtDbTDK97k",
        "outputId": "0013545e-dd0f-4bbf-f96f-e5c24dca0771"
      },
      "execution_count": 2,
      "outputs": [
        {
          "output_type": "stream",
          "name": "stdout",
          "text": [
            "Clicks A: 150\n",
            "Clicks B: 180\n",
            "Z-statistics: 1.8072617084864464\n",
            "P-value: 0.035360741704651984\n"
          ]
        }
      ]
    },
    {
      "cell_type": "markdown",
      "source": [
        "Z- statistics = 1.807 means that version B actually performed a bit better than the version A when it is > 1.645"
      ],
      "metadata": {
        "id": "eu1OTxzCMbqd"
      }
    },
    {
      "cell_type": "markdown",
      "source": [
        "P-Value =0.035 tells there is a 3.5% change the higher click rate from B could have happend by luck , when p<0.05 the conclusion is that experiment is statistically significant. We can say B performs better for click thru rate."
      ],
      "metadata": {
        "id": "44162cBAOhAh"
      }
    },
    {
      "cell_type": "code",
      "source": [
        "import seaborn as sns\n",
        "import matplotlib.pyplot as plt\n",
        "import pandas as pd\n",
        "\n",
        "\n",
        "ctr_A=clicks_A/emails_A\n",
        "ctr_B=clicks_B/emails_B\n",
        "\n",
        "#print(\"CTR A:\",ctr_A)\n",
        "#print(\"CTR B:\",ctr_B)\n",
        "\n",
        "df=pd.DataFrame({'Subject Line':['A','B'],'CTR':[ctr_A,ctr_B]})\n",
        "\n",
        "sns.set(style='darkgrid')\n",
        "sns.barplot(x='Subject Line',y='CTR',data=df)\n",
        "plt.title('Click Through Rate')\n",
        "plt.tight_layout()\n",
        "plt.show()"
      ],
      "metadata": {
        "colab": {
          "base_uri": "https://localhost:8080/",
          "height": 481
        },
        "id": "vW7F2H-ePKih",
        "outputId": "1d1721c4-066c-4ccc-97d0-4dbe870c5bcf"
      },
      "execution_count": 4,
      "outputs": [
        {
          "output_type": "display_data",
          "data": {
            "text/plain": [
              "<Figure size 640x480 with 1 Axes>"
            ],
            "image/png": "[encoded data removed]"
          },
          "metadata": {}
        }
      ]
    },
    {
      "cell_type": "code",
      "source": [],
      "metadata": {
        "id": "NTu-QlzEC-SA"
      },
      "execution_count": null,
      "outputs": []
    }
  ]
}